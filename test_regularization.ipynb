{
 "cells": [
  {
   "cell_type": "code",
   "execution_count": 64,
   "metadata": {},
   "outputs": [],
   "source": [
    "import matplotlib.pyplot as plt\n",
    "from dataload import *\n",
    "from gan_architecture import *\n",
    "from utils import *\n",
    "import torch\n",
    "import torch.nn as nn\n",
    "import torch.nn.functional as F\n",
    "import torch.optim as optim\n",
    "from dataload import *\n",
    "from gan_architecture import *\n",
    "import pandas as pd\n",
    "import numpy as np\n",
    "import copy"
   ]
  },
  {
   "cell_type": "code",
   "execution_count": 65,
   "metadata": {},
   "outputs": [],
   "source": [
    "class SuperNetwork(nn.Module):\n",
    "    def __init__(self, input_size):\n",
    "        super().__init__()\n",
    "        self.lin = nn.Linear(input_size, 4)\n",
    "        # self.conv = nn.Conv1d(4, 4, 1)\n",
    "        self.bn = nn.BatchNorm1d(4)\n",
    "        self.activation = nn.ReLU()\n",
    "\n",
    "    def forward(self, x):\n",
    "        x = self.lin(x)\n",
    "        # x = self.conv(x)\n",
    "        x = self.bn(x)\n",
    "        x = self.activation(x)\n",
    "        return x"
   ]
  },
  {
   "cell_type": "code",
   "execution_count": 66,
   "metadata": {},
   "outputs": [],
   "source": [
    "bs = 16\n",
    "input = torch.randn((bs, 4), dtype=torch.float, device='cpu')\n",
    "solution = torch.full((bs, 4), 3.5, dtype=torch.float, device='cpu')"
   ]
  },
  {
   "cell_type": "code",
   "execution_count": 67,
   "metadata": {},
   "outputs": [],
   "source": [
    "s = SuperNetwork(4)\n",
    "s2 = copy.deepcopy(s)\n",
    "criterion = nn.MSELoss() \n",
    "optimizer = optim.Adam(s.parameters(), lr = 1.0)\n",
    "optimizer2 = optim.Adam(s2.parameters(), lr = 1.0)"
   ]
  },
  {
   "cell_type": "code",
   "execution_count": 68,
   "metadata": {},
   "outputs": [
    {
     "name": "stdout",
     "output_type": "stream",
     "text": [
      "<bound method Module.parameters of SuperNetwork(\n",
      "  (lin): Linear(in_features=4, out_features=4, bias=True)\n",
      "  (bn): BatchNorm1d(4, eps=1e-05, momentum=0.1, affine=True, track_running_stats=True)\n",
      "  (activation): ReLU()\n",
      ")>\n"
     ]
    }
   ],
   "source": [
    "print(s.parameters)"
   ]
  },
  {
   "cell_type": "code",
   "execution_count": 69,
   "metadata": {},
   "outputs": [
    {
     "name": "stdout",
     "output_type": "stream",
     "text": [
      "None\n",
      "None\n"
     ]
    }
   ],
   "source": [
    "gen = s.modules()\n",
    "next(gen)\n",
    "m_list  = list(gen)\n",
    "\n",
    "gen2 = s2.modules()\n",
    "next(gen2)\n",
    "m_list2 = list(gen2)\n",
    "\n",
    "\n",
    "for l in m_list[:-1] :\n",
    "    print(l.weight.grad)"
   ]
  },
  {
   "cell_type": "code",
   "execution_count": 70,
   "metadata": {},
   "outputs": [
    {
     "name": "stdout",
     "output_type": "stream",
     "text": [
      "tensor(9.9606, grad_fn=<MseLossBackward0>)\n"
     ]
    }
   ],
   "source": [
    "loss = criterion(s(input), solution)\n",
    "loss.backward(retain_graph=True)\n",
    "print(loss)"
   ]
  },
  {
   "cell_type": "code",
   "execution_count": 71,
   "metadata": {},
   "outputs": [],
   "source": [
    "loss2 = criterion(s2(input), solution)\n",
    "loss2.backward()"
   ]
  },
  {
   "cell_type": "code",
   "execution_count": 72,
   "metadata": {},
   "outputs": [
    {
     "name": "stdout",
     "output_type": "stream",
     "text": [
      "tensor(9.9606, grad_fn=<MseLossBackward0>)\n",
      "tensor(9.9606, grad_fn=<MseLossBackward0>)\n"
     ]
    }
   ],
   "source": [
    "print(loss)\n",
    "print(loss2)"
   ]
  },
  {
   "cell_type": "code",
   "execution_count": 73,
   "metadata": {},
   "outputs": [
    {
     "name": "stdout",
     "output_type": "stream",
     "text": [
      "tensor([[-0.0882,  0.1290,  0.0674,  0.1725],\n",
      "        [-0.0785, -0.1051,  0.1533, -0.1014],\n",
      "        [ 0.0451, -0.0962,  0.1815,  0.0388],\n",
      "        [ 0.1052, -0.3262,  0.0703, -0.1310]])\n",
      "tensor([-0.2991, -0.5083, -0.3425, -0.5579])\n",
      "tensor([[-0.0882,  0.1290,  0.0674,  0.1725],\n",
      "        [-0.0785, -0.1051,  0.1533, -0.1014],\n",
      "        [ 0.0451, -0.0962,  0.1815,  0.0388],\n",
      "        [ 0.1052, -0.3262,  0.0703, -0.1310]])\n",
      "tensor([-0.2991, -0.5083, -0.3425, -0.5579])\n"
     ]
    }
   ],
   "source": [
    "for l in m_list[:-1] :\n",
    "    print(l.weight.grad)\n",
    "\n",
    "for l in m_list2[:-1] :\n",
    "    print(l.weight.grad)\n",
    "\n",
    "# print(s.lin.weight.grad)"
   ]
  },
  {
   "cell_type": "code",
   "execution_count": 74,
   "metadata": {},
   "outputs": [],
   "source": [
    "apply_weight_decay(*s.modules(), weight_decay_factor=1, wo_bn=True)"
   ]
  },
  {
   "cell_type": "code",
   "execution_count": 75,
   "metadata": {},
   "outputs": [],
   "source": [
    "optimizer.step()\n",
    "optimizer2.step()"
   ]
  },
  {
   "cell_type": "code",
   "execution_count": 76,
   "metadata": {},
   "outputs": [
    {
     "name": "stdout",
     "output_type": "stream",
     "text": [
      "tensor([[ 0.6775, -0.4496, -0.0959,  1.0606],\n",
      "        [-0.8692,  0.2365,  0.5613,  0.7738],\n",
      "        [ 0.7318, -0.4043, -0.2384,  0.4409],\n",
      "        [ 0.3368, -0.3591, -0.8219, -0.3415]], grad_fn=<AddBackward0>)\n",
      "tensor([-0.2991, -0.5083, -0.3425, -0.5579])\n",
      "tensor([[-0.0882,  0.1290,  0.0674,  0.1725],\n",
      "        [-0.0785, -0.1051,  0.1533, -0.1014],\n",
      "        [ 0.0451, -0.0962,  0.1815,  0.0388],\n",
      "        [ 0.1052, -0.3262,  0.0703, -0.1310]])\n",
      "tensor([-0.2991, -0.5083, -0.3425, -0.5579])\n"
     ]
    }
   ],
   "source": [
    "for l in m_list[:-1] :\n",
    "    print(l.weight.grad)\n",
    "\n",
    "for l in m_list2[:-1] :\n",
    "    print(l.weight.grad)"
   ]
  },
  {
   "cell_type": "code",
   "execution_count": 77,
   "metadata": {},
   "outputs": [
    {
     "name": "stdout",
     "output_type": "stream",
     "text": [
      "Parameter containing:\n",
      "tensor([[-0.6171,  0.7107,  0.9184, -0.5559],\n",
      "        [ 0.6047, -0.8292, -0.7960, -0.5624],\n",
      "        [-0.6567,  0.8460,  0.7900, -0.7990],\n",
      "        [-0.8842,  0.9835,  0.5539,  0.8947]], requires_grad=True)\n",
      "Parameter containing:\n",
      "tensor([2.0000, 2.0000, 2.0000, 2.0000], requires_grad=True)\n",
      "Parameter containing:\n",
      "tensor([[ 1.3829, -1.2893, -1.0816, -0.5559],\n",
      "        [ 0.6047,  1.1708, -0.7960,  1.4376],\n",
      "        [-0.6567,  0.8460, -1.2100, -0.7990],\n",
      "        [-0.8842,  0.9835, -1.4461,  0.8947]], requires_grad=True)\n",
      "Parameter containing:\n",
      "tensor([2.0000, 2.0000, 2.0000, 2.0000], requires_grad=True)\n"
     ]
    }
   ],
   "source": [
    "for l in m_list[:-1] :\n",
    "    print(l.weight)\n",
    "\n",
    "for l in m_list2[:-1] :\n",
    "    print(l.weight)"
   ]
  },
  {
   "cell_type": "code",
   "execution_count": 78,
   "metadata": {},
   "outputs": [
    {
     "data": {
      "text/plain": [
       "Parameter containing:\n",
       "tensor([[-0.6171,  0.7107,  0.9184, -0.5559],\n",
       "        [ 0.6047, -0.8292, -0.7960, -0.5624],\n",
       "        [-0.6567,  0.8460,  0.7900, -0.7990],\n",
       "        [-0.8842,  0.9835,  0.5539,  0.8947]], requires_grad=True)"
      ]
     },
     "execution_count": 78,
     "metadata": {},
     "output_type": "execute_result"
    }
   ],
   "source": [
    "m_list[0].weight"
   ]
  },
  {
   "cell_type": "code",
   "execution_count": 79,
   "metadata": {},
   "outputs": [
    {
     "data": {
      "text/plain": [
       "[SuperNetwork(\n",
       "   (lin): Linear(in_features=4, out_features=4, bias=True)\n",
       "   (bn): BatchNorm1d(4, eps=1e-05, momentum=0.1, affine=True, track_running_stats=True)\n",
       "   (activation): ReLU()\n",
       " ),\n",
       " Linear(in_features=4, out_features=4, bias=True),\n",
       " BatchNorm1d(4, eps=1e-05, momentum=0.1, affine=True, track_running_stats=True),\n",
       " ReLU()]"
      ]
     },
     "execution_count": 79,
     "metadata": {},
     "output_type": "execute_result"
    }
   ],
   "source": [
    "list(s.modules())"
   ]
  },
  {
   "cell_type": "code",
   "execution_count": null,
   "metadata": {},
   "outputs": [],
   "source": []
  }
 ],
 "metadata": {
  "interpreter": {
   "hash": "aff6a0c97bf647d57f829f973db0d341d149cf8adebb692db2ac85668315af91"
  },
  "kernelspec": {
   "display_name": "Python 3.9.7 ('dl')",
   "language": "python",
   "name": "python3"
  },
  "language_info": {
   "codemirror_mode": {
    "name": "ipython",
    "version": 3
   },
   "file_extension": ".py",
   "mimetype": "text/x-python",
   "name": "python",
   "nbconvert_exporter": "python",
   "pygments_lexer": "ipython3",
   "version": "3.9.7"
  },
  "orig_nbformat": 4
 },
 "nbformat": 4,
 "nbformat_minor": 2
}
