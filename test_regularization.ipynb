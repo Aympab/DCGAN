{
 "cells": [
  {
   "cell_type": "code",
   "execution_count": 49,
   "metadata": {},
   "outputs": [],
   "source": [
    "import matplotlib.pyplot as plt\n",
    "from dataload import *\n",
    "from gan_architecture import *\n",
    "from utils import *\n",
    "import torch\n",
    "import torch.nn as nn\n",
    "import torch.nn.functional as F\n",
    "import torch.optim as optim\n",
    "from dataload import *\n",
    "from gan_architecture import *\n",
    "import pandas as pd\n",
    "import numpy as np\n",
    "import copy"
   ]
  },
  {
   "cell_type": "code",
   "execution_count": 50,
   "metadata": {},
   "outputs": [],
   "source": [
    "class SuperNetwork(nn.Module):\n",
    "    def __init__(self, input_size):\n",
    "        super().__init__()\n",
    "        self.lin = nn.Linear(input_size, 4)\n",
    "        self.bn = nn.BatchNorm1d(4)\n",
    "        self.activation = nn.ReLU()\n",
    "\n",
    "    def forward(self, x):\n",
    "        x = self.lin(x)\n",
    "        x = self.bn(x)\n",
    "        x = self.activation(x)\n",
    "        return x"
   ]
  },
  {
   "cell_type": "code",
   "execution_count": 51,
   "metadata": {},
   "outputs": [],
   "source": [
    "bs = 16\n",
    "input = torch.full((bs, 4), 1.5, dtype=torch.float, device='cpu')"
   ]
  },
  {
   "cell_type": "code",
   "execution_count": 52,
   "metadata": {},
   "outputs": [],
   "source": [
    "s = SuperNetwork(4)\n",
    "s2 = copy.deepcopy(s)\n",
    "criterion = nn.BCELoss() \n",
    "optimizer = optim.Adam(s.parameters(), lr = 0.002)\n",
    "optimizer2 = optim.Adam(s2.parameters(), lr = 0.002)"
   ]
  },
  {
   "cell_type": "code",
   "execution_count": 53,
   "metadata": {},
   "outputs": [
    {
     "name": "stdout",
     "output_type": "stream",
     "text": [
      "<bound method Module.parameters of SuperNetwork(\n",
      "  (lin): Linear(in_features=4, out_features=4, bias=True)\n",
      "  (bn): BatchNorm1d(4, eps=1e-05, momentum=0.1, affine=True, track_running_stats=True)\n",
      "  (activation): ReLU()\n",
      ")>\n"
     ]
    }
   ],
   "source": [
    "print(s.parameters)"
   ]
  },
  {
   "cell_type": "code",
   "execution_count": 54,
   "metadata": {},
   "outputs": [],
   "source": [
    "loss = criterion(s(input), input)\n",
    "loss2 = criterion(s2(input), input)\n",
    "loss.backward()\n",
    "loss2.backward()"
   ]
  },
  {
   "cell_type": "code",
   "execution_count": 55,
   "metadata": {},
   "outputs": [
    {
     "name": "stdout",
     "output_type": "stream",
     "text": [
      "tensor([[ 0.2825,  0.0751,  0.3275, -0.3938],\n",
      "        [-0.2841,  0.0759,  0.1744,  0.1236],\n",
      "        [-0.4762, -0.4474, -0.0302, -0.1469],\n",
      "        [-0.3312,  0.2187,  0.3164,  0.1254]])\n",
      "tensor([-0.3025,  0.3563, -0.1819,  0.3387])\n",
      "tensor([1., 1., 1., 1.])\n",
      "tensor([0., 0., 0., 0.])\n",
      "tensor([[ 0.2825,  0.0751,  0.3275, -0.3938],\n",
      "        [-0.2841,  0.0759,  0.1744,  0.1236],\n",
      "        [-0.4762, -0.4474, -0.0302, -0.1469],\n",
      "        [-0.3312,  0.2187,  0.3164,  0.1254]])\n",
      "tensor([-0.3025,  0.3563, -0.1819,  0.3387])\n",
      "tensor([1., 1., 1., 1.])\n",
      "tensor([0., 0., 0., 0.])\n"
     ]
    }
   ],
   "source": [
    "for param in s.parameters():\n",
    "  print(param.data)\n",
    "\n",
    "for param in s2.parameters():\n",
    "  print(param.data)"
   ]
  },
  {
   "cell_type": "code",
   "execution_count": 56,
   "metadata": {},
   "outputs": [
    {
     "name": "stdout",
     "output_type": "stream",
     "text": [
      "Parameter containing:\n",
      "tensor([[ 0.2825,  0.0751,  0.3275, -0.3938],\n",
      "        [-0.2841,  0.0759,  0.1744,  0.1236],\n",
      "        [-0.4762, -0.4474, -0.0302, -0.1469],\n",
      "        [-0.3312,  0.2187,  0.3164,  0.1254]], requires_grad=True)\n",
      "Parameter containing:\n",
      "tensor([1., 1., 1., 1.], requires_grad=True)\n",
      "Parameter containing:\n",
      "tensor([[ 0.2825,  0.0751,  0.3275, -0.3938],\n",
      "        [-0.2841,  0.0759,  0.1744,  0.1236],\n",
      "        [-0.4762, -0.4474, -0.0302, -0.1469],\n",
      "        [-0.3312,  0.2187,  0.3164,  0.1254]], requires_grad=True)\n",
      "Parameter containing:\n",
      "tensor([1., 1., 1., 1.], requires_grad=True)\n"
     ]
    }
   ],
   "source": [
    "gen = s.modules()\n",
    "next(gen)\n",
    "m_list  = list(gen)\n",
    "\n",
    "gen = s2.modules()\n",
    "next(gen)\n",
    "m_list2 = list(gen)\n",
    "\n",
    "\n",
    "for l in m_list[:-1] :\n",
    "    print(l.weight)\n",
    "\n",
    "for l in m_list2[:-1] :\n",
    "    print(l.weight)"
   ]
  },
  {
   "cell_type": "code",
   "execution_count": 57,
   "metadata": {},
   "outputs": [],
   "source": [
    "apply_weight_decay(*m_list, weight_decay_factor=0.005, wo_bn=True)"
   ]
  },
  {
   "cell_type": "code",
   "execution_count": 58,
   "metadata": {},
   "outputs": [],
   "source": [
    "optimizer.step()\n",
    "optimizer2.step()"
   ]
  },
  {
   "cell_type": "code",
   "execution_count": 59,
   "metadata": {},
   "outputs": [
    {
     "name": "stdout",
     "output_type": "stream",
     "text": [
      "Parameter containing:\n",
      "tensor([[ 0.2805,  0.0731,  0.3255, -0.3918],\n",
      "        [-0.2821,  0.0739,  0.1724,  0.1216],\n",
      "        [-0.4742, -0.4454, -0.0282, -0.1449],\n",
      "        [-0.3292,  0.2167,  0.3144,  0.1234]], requires_grad=True)\n",
      "Parameter containing:\n",
      "tensor([0.9980, 0.9980, 0.9980, 0.9980], requires_grad=True)\n",
      "Parameter containing:\n",
      "tensor([[ 0.2825,  0.0751,  0.3275, -0.3938],\n",
      "        [-0.2841,  0.0759,  0.1744,  0.1236],\n",
      "        [-0.4762, -0.4474, -0.0302, -0.1469],\n",
      "        [-0.3312,  0.2187,  0.3164,  0.1254]], requires_grad=True)\n",
      "Parameter containing:\n",
      "tensor([1., 1., 1., 1.], requires_grad=True)\n"
     ]
    }
   ],
   "source": [
    "for l in m_list[:-1] :\n",
    "    print(l.weight)\n",
    "\n",
    "for l in m_list2[:-1] :\n",
    "    print(l.weight)"
   ]
  },
  {
   "cell_type": "code",
   "execution_count": null,
   "metadata": {},
   "outputs": [],
   "source": []
  }
 ],
 "metadata": {
  "interpreter": {
   "hash": "aff6a0c97bf647d57f829f973db0d341d149cf8adebb692db2ac85668315af91"
  },
  "kernelspec": {
   "display_name": "Python 3.9.7 ('dl')",
   "language": "python",
   "name": "python3"
  },
  "language_info": {
   "codemirror_mode": {
    "name": "ipython",
    "version": 3
   },
   "file_extension": ".py",
   "mimetype": "text/x-python",
   "name": "python",
   "nbconvert_exporter": "python",
   "pygments_lexer": "ipython3",
   "version": "3.8.12"
  },
  "orig_nbformat": 4
 },
 "nbformat": 4,
 "nbformat_minor": 2
}
